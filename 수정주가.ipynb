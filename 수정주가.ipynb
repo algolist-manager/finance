{
 "cells": [
  {
   "cell_type": "code",
   "execution_count": 140,
   "metadata": {},
   "outputs": [],
   "source": [
    "import pandas as pd\n",
    "import datetime \n",
    "import win32com.client\n",
    "import requests\n",
    "from bs4 import BeautifulSoup as bs"
   ]
  },
  {
   "cell_type": "code",
   "execution_count": 145,
   "metadata": {},
   "outputs": [],
   "source": [
    "def get_raw_data(short_code, st_date, end_date):\n",
    "    num_code = short_code[1:]\n",
    "    header = {\n",
    "        'User-Agent': 'Mozilla/5.0 (Windows NT 10.0; Win64; x64) AppleWebKit/537.36 (KHTML, like Gecko) Chrome/79.0.3945.117 Safari/537.36',\n",
    "        'Sec-Fetch-Mode': 'navigate',\n",
    "        'Sec-Fetch-Site': 'same-origin',\n",
    "        'X-Requested-With': 'XMLHttpRequest'\n",
    "    }\n",
    "    url = 'https://www.investing.com/instruments/HistoricalDataAjax'\n",
    "    payload = {\n",
    "        'curr_id': '43433',\n",
    "        'smlID': '25193974',\n",
    "        'interval_sec': 'Daily',\n",
    "        'sort_col': 'date',\n",
    "        'sort_ord': 'DESC',\n",
    "        'action': 'historical_data'\n",
    "    }\n",
    "    def tr_date(date):\n",
    "        year ,month, day = date[:4], date[4:6], date[6:]\n",
    "        tr_date = month + '/' + day + '/' + year\n",
    "        return tr_date\n",
    "\n",
    "    payload['header'] = num_code + ' ' + 'Historical Data'\n",
    "    payload['st_date'] = tr_date(st_date)\n",
    "    payload['end_date'] = tr_date(end_date)\n",
    "    \n",
    "    r1 = requests.post(url, data=payload, headers=header)\n",
    "    tables = bs(r1.text,'lxml').findAll('table')\n",
    "    raw_data = pd.read_html(str(tables[0]))[0]\n",
    "    return raw_data\n",
    "\n",
    "def preprocess(short_code, raw_data):\n",
    "    # columns 정리\n",
    "    raw_data.drop(['Open', 'High', 'Low', 'Vol.', 'Change %'], axis = 'columns', inplace = True)\n",
    "    raw_data.rename(columns = {'Date' : 'date', 'Price' : 'adj'}, inplace = True)\n",
    "    raw_data['short_code'] = short_code\n",
    "    def tr_date_1(date_1):        \n",
    "        tr_month = {\n",
    "            'Jan' : 1,\n",
    "            'Feb' : 2,\n",
    "            'Mar' : 3,\n",
    "            'Apr' : 4,\n",
    "            'May' : 5,\n",
    "            'Jun' : 6,\n",
    "            'Jul' : 7,\n",
    "            'Aug' : 8,\n",
    "            'Sep' : 9,\n",
    "            'Oct' : 10,\n",
    "            'Nov' : 11,\n",
    "            'Dec' : 12\n",
    "        }\n",
    "        year ,month, day = int(date_1[-4:]), tr_month[date_1[:3]], int(date_1[4:6])\n",
    "        tr_date_var = datetime.date(year, month, day)\n",
    "        return tr_date_var\n",
    "    \n",
    "    raw_data['date'] = raw_data['date'].apply(lambda x : tr_date_1(x))\n",
    "    fined_data = raw_data\n",
    "    return fined_data    \n",
    "\n",
    "def get_adj_stock(short_code):\n",
    "    raw_data = get_raw_data(short_code, '20180122', '20200120')\n",
    "    fined_data = preprocess(short_code, raw_data)\n",
    "    return fined_data\n",
    "\n"
   ]
  },
  {
   "cell_type": "code",
   "execution_count": 130,
   "metadata": {},
   "outputs": [],
   "source": [
    "all_total = pd.read_csv('./all_total.csv')"
   ]
  },
  {
   "cell_type": "code",
   "execution_count": 136,
   "metadata": {},
   "outputs": [
    {
     "data": {
      "text/plain": [
       "array(['A060310', 'A095570', 'A006840', ..., 'A003280', 'A037440',\n",
       "       'A238490'], dtype=object)"
      ]
     },
     "execution_count": 136,
     "metadata": {},
     "output_type": "execute_result"
    }
   ],
   "source": [
    "all_total['short_code'].unique()"
   ]
  },
  {
   "cell_type": "code",
   "execution_count": null,
   "metadata": {},
   "outputs": [
    {
     "name": "stdout",
     "output_type": "stream",
     "text": [
      "A060310\n",
      "A095570\n",
      "A006840\n",
      "A054620\n",
      "A265520\n",
      "A211270\n",
      "A027410\n",
      "A282330\n",
      "A138930\n",
      "A001460\n",
      "A001040\n",
      "A079160\n",
      "A035760\n",
      "A000120\n",
      "A011150\n",
      "A097950\n",
      "A051500\n",
      "A058820\n",
      "A023460\n",
      "A065770\n",
      "A083660\n",
      "A000590\n",
      "A012030\n",
      "A306620\n",
      "A322780\n",
      "A016610\n",
      "A005830\n",
      "A000990\n",
      "A139130\n",
      "A068790\n",
      "A004840\n",
      "A241520\n",
      "A155660\n",
      "A069730\n",
      "A017940\n",
      "A245620\n"
     ]
    }
   ],
   "source": [
    "adj_list = []\n",
    "for short_code_1 in all_total['short_code'].unique():\n",
    "    try:\n",
    "        print(short_code_1)\n",
    "        adj_list.append(get_adj_stock(short_code_1))\n",
    "    except Exception as e:\n",
    "        print(e)\n",
    "try:\n",
    "    adj_total = pd.concat(adj_list)\n",
    "    new_all_total = pd.merge(all_total, adj_total, on = ['date'])\n",
    "except Exception as e:\n",
    "        print(e)"
   ]
  },
  {
   "cell_type": "code",
   "execution_count": 128,
   "metadata": {},
   "outputs": [
    {
     "data": {
      "text/html": [
       "<div>\n",
       "<style scoped>\n",
       "    .dataframe tbody tr th:only-of-type {\n",
       "        vertical-align: middle;\n",
       "    }\n",
       "\n",
       "    .dataframe tbody tr th {\n",
       "        vertical-align: top;\n",
       "    }\n",
       "\n",
       "    .dataframe thead th {\n",
       "        text-align: right;\n",
       "    }\n",
       "</style>\n",
       "<table border=\"1\" class=\"dataframe\">\n",
       "  <thead>\n",
       "    <tr style=\"text-align: right;\">\n",
       "      <th></th>\n",
       "      <th>date</th>\n",
       "      <th>adj</th>\n",
       "      <th>short_code</th>\n",
       "    </tr>\n",
       "  </thead>\n",
       "  <tbody>\n",
       "    <tr>\n",
       "      <th>0</th>\n",
       "      <td>2018-12-28</td>\n",
       "      <td>38700</td>\n",
       "      <td>A005930</td>\n",
       "    </tr>\n",
       "    <tr>\n",
       "      <th>1</th>\n",
       "      <td>2018-12-27</td>\n",
       "      <td>38250</td>\n",
       "      <td>A005930</td>\n",
       "    </tr>\n",
       "    <tr>\n",
       "      <th>2</th>\n",
       "      <td>2018-12-26</td>\n",
       "      <td>38350</td>\n",
       "      <td>A005930</td>\n",
       "    </tr>\n",
       "  </tbody>\n",
       "</table>\n",
       "</div>"
      ],
      "text/plain": [
       "         date    adj short_code\n",
       "0  2018-12-28  38700    A005930\n",
       "1  2018-12-27  38250    A005930\n",
       "2  2018-12-26  38350    A005930"
      ]
     },
     "execution_count": 128,
     "metadata": {},
     "output_type": "execute_result"
    }
   ],
   "source": [
    "fined_data.head(3)"
   ]
  },
  {
   "cell_type": "code",
   "execution_count": 96,
   "metadata": {},
   "outputs": [
    {
     "data": {
      "text/plain": [
       "'Jan 23, 2020'"
      ]
     },
     "execution_count": 96,
     "metadata": {},
     "output_type": "execute_result"
    }
   ],
   "source": [
    "pd.read_html(str(tables[0]))[0].iloc[0,0]"
   ]
  },
  {
   "cell_type": "code",
   "execution_count": null,
   "metadata": {},
   "outputs": [],
   "source": [
    "## 함수의 형태\n",
    "입력 : get_adj('A005930', '20180101', '20190101')\n",
    "출력 : date, adj, short_code가 columns인 데이터 프레임을 반환한다."
   ]
  },
  {
   "cell_type": "code",
   "execution_count": 125,
   "metadata": {},
   "outputs": [],
   "source": [
    "def get_raw_data(short_code, st_date, end_date):\n",
    "    num_code = short_code[1:]\n",
    "    header = {\n",
    "        'User-Agent': 'Mozilla/5.0 (Windows NT 10.0; Win64; x64) AppleWebKit/537.36 (KHTML, like Gecko) Chrome/79.0.3945.117 Safari/537.36',\n",
    "        'Sec-Fetch-Mode': 'navigate',\n",
    "        'Sec-Fetch-Site': 'same-origin',\n",
    "        'X-Requested-With': 'XMLHttpRequest'\n",
    "    }\n",
    "    url = 'https://www.investing.com/instruments/HistoricalDataAjax'\n",
    "    payload = {\n",
    "        'curr_id': '43433',\n",
    "        'smlID': '25193974',\n",
    "        'interval_sec': 'Daily',\n",
    "        'sort_col': 'date',\n",
    "        'sort_ord': 'DESC',\n",
    "        'action': 'historical_data'\n",
    "    }\n",
    "    def tr_date(date):\n",
    "        year ,month, day = date[:4], date[4:6], date[6:]\n",
    "        tr_date = month + '/' + day + '/' + year\n",
    "        return tr_date\n",
    "\n",
    "    payload['header'] = num_code + ' ' + 'Historical Data'\n",
    "    payload['st_date'] = tr_date(st_date)\n",
    "    payload['end_date'] = tr_date(end_date)\n",
    "    \n",
    "    r1 = requests.post(url, data=payload, headers=header)\n",
    "    tables = bs(r1.text,'lxml').findAll('table')\n",
    "    raw_data = pd.read_html(str(tables[0]))[0]\n",
    "    return raw_data"
   ]
  },
  {
   "cell_type": "code",
   "execution_count": 142,
   "metadata": {},
   "outputs": [],
   "source": [
    "def preprocess(short_code, raw_data):\n",
    "    # columns 정리\n",
    "    raw_data.drop(['Open', 'High', 'Low', 'Vol.', 'Change %'], axis = 'columns', inplace = True)\n",
    "    raw_data.rename(columns = {'Date' : 'date', 'Price' : 'adj'}, inplace = True)\n",
    "    raw_data['short_code'] = short_code\n",
    "    def tr_date_1(date_1):        \n",
    "        tr_month = {\n",
    "            'Jan' : 1,\n",
    "            'Feb' : 2,\n",
    "            'Mar' : 3,\n",
    "            'Apr' : 4,\n",
    "            'May' : 5,\n",
    "            'Jun' : 6,\n",
    "            'Jul' : 7,\n",
    "            'Aug' : 8,\n",
    "            'Sep' : 9,\n",
    "            'Oct' : 10,\n",
    "            'Nov' : 11,\n",
    "            'Dec' : 12\n",
    "        }\n",
    "        year ,month, day = int(date_1[-4:]), tr_month[date_1[:3]], int(date_1[4:6])\n",
    "        tr_date_var = datetime.date(year, month, day)\n",
    "        return tr_date_var\n",
    "    \n",
    "    raw_data['date'] = raw_data['date'].apply(lambda x : tr_date_1(x))\n",
    "    fined_data = raw_data\n",
    "    return fined_data    "
   ]
  },
  {
   "cell_type": "code",
   "execution_count": 127,
   "metadata": {},
   "outputs": [
    {
     "data": {
      "text/html": [
       "<div>\n",
       "<style scoped>\n",
       "    .dataframe tbody tr th:only-of-type {\n",
       "        vertical-align: middle;\n",
       "    }\n",
       "\n",
       "    .dataframe tbody tr th {\n",
       "        vertical-align: top;\n",
       "    }\n",
       "\n",
       "    .dataframe thead th {\n",
       "        text-align: right;\n",
       "    }\n",
       "</style>\n",
       "<table border=\"1\" class=\"dataframe\">\n",
       "  <thead>\n",
       "    <tr style=\"text-align: right;\">\n",
       "      <th></th>\n",
       "      <th>date</th>\n",
       "      <th>adj</th>\n",
       "      <th>short_code</th>\n",
       "    </tr>\n",
       "  </thead>\n",
       "  <tbody>\n",
       "    <tr>\n",
       "      <th>0</th>\n",
       "      <td>2018-12-28</td>\n",
       "      <td>38700</td>\n",
       "      <td>A005930</td>\n",
       "    </tr>\n",
       "    <tr>\n",
       "      <th>1</th>\n",
       "      <td>2018-12-27</td>\n",
       "      <td>38250</td>\n",
       "      <td>A005930</td>\n",
       "    </tr>\n",
       "    <tr>\n",
       "      <th>2</th>\n",
       "      <td>2018-12-26</td>\n",
       "      <td>38350</td>\n",
       "      <td>A005930</td>\n",
       "    </tr>\n",
       "  </tbody>\n",
       "</table>\n",
       "</div>"
      ],
      "text/plain": [
       "         date    adj short_code\n",
       "0  2018-12-28  38700    A005930\n",
       "1  2018-12-27  38250    A005930\n",
       "2  2018-12-26  38350    A005930"
      ]
     },
     "execution_count": 127,
     "metadata": {},
     "output_type": "execute_result"
    }
   ],
   "source": [
    "raw_data = get_raw_data('A005930', '20180101', '20190101')\n",
    "fined_data = preprocess('A005930', raw_data)\n",
    "fined_data.head(3)"
   ]
  },
  {
   "cell_type": "code",
   "execution_count": 117,
   "metadata": {},
   "outputs": [
    {
     "data": {
      "text/plain": [
       "datetime.date(2020, 1, 23)"
      ]
     },
     "execution_count": 117,
     "metadata": {},
     "output_type": "execute_result"
    }
   ],
   "source": [
    "date(2020,1,23)"
   ]
  },
  {
   "cell_type": "code",
   "execution_count": 107,
   "metadata": {
    "scrolled": true
   },
   "outputs": [],
   "source": [
    "a = pd.read_html(str(tables[0]))[0]"
   ]
  },
  {
   "cell_type": "markdown",
   "metadata": {},
   "source": [
    "### Merge 연습"
   ]
  },
  {
   "cell_type": "code",
   "execution_count": 19,
   "metadata": {},
   "outputs": [],
   "source": [
    "import pandas as pd\n",
    "import datetime"
   ]
  },
  {
   "cell_type": "code",
   "execution_count": 13,
   "metadata": {},
   "outputs": [],
   "source": [
    "a1 = pd.DataFrame({'date' : [1,2,3,1,2,3], 'price' : [15,23,54,26,82,36], 'code': [1,1,1,2,2,2]})"
   ]
  },
  {
   "cell_type": "code",
   "execution_count": 14,
   "metadata": {},
   "outputs": [],
   "source": [
    "a2 = pd.DataFrame({'date' : [1,2,3,1,2,3], 'vol' : [95,14,47,85,29,63], 'code': [1,1,1,2,2,2]})"
   ]
  },
  {
   "cell_type": "code",
   "execution_count": 16,
   "metadata": {},
   "outputs": [
    {
     "data": {
      "text/html": [
       "<div>\n",
       "<style scoped>\n",
       "    .dataframe tbody tr th:only-of-type {\n",
       "        vertical-align: middle;\n",
       "    }\n",
       "\n",
       "    .dataframe tbody tr th {\n",
       "        vertical-align: top;\n",
       "    }\n",
       "\n",
       "    .dataframe thead th {\n",
       "        text-align: right;\n",
       "    }\n",
       "</style>\n",
       "<table border=\"1\" class=\"dataframe\">\n",
       "  <thead>\n",
       "    <tr style=\"text-align: right;\">\n",
       "      <th></th>\n",
       "      <th>date</th>\n",
       "      <th>price</th>\n",
       "      <th>code</th>\n",
       "      <th>vol</th>\n",
       "    </tr>\n",
       "  </thead>\n",
       "  <tbody>\n",
       "    <tr>\n",
       "      <th>0</th>\n",
       "      <td>1</td>\n",
       "      <td>15</td>\n",
       "      <td>1</td>\n",
       "      <td>95</td>\n",
       "    </tr>\n",
       "    <tr>\n",
       "      <th>1</th>\n",
       "      <td>2</td>\n",
       "      <td>23</td>\n",
       "      <td>1</td>\n",
       "      <td>14</td>\n",
       "    </tr>\n",
       "    <tr>\n",
       "      <th>2</th>\n",
       "      <td>3</td>\n",
       "      <td>54</td>\n",
       "      <td>1</td>\n",
       "      <td>47</td>\n",
       "    </tr>\n",
       "    <tr>\n",
       "      <th>3</th>\n",
       "      <td>1</td>\n",
       "      <td>26</td>\n",
       "      <td>2</td>\n",
       "      <td>85</td>\n",
       "    </tr>\n",
       "    <tr>\n",
       "      <th>4</th>\n",
       "      <td>2</td>\n",
       "      <td>82</td>\n",
       "      <td>2</td>\n",
       "      <td>29</td>\n",
       "    </tr>\n",
       "    <tr>\n",
       "      <th>5</th>\n",
       "      <td>3</td>\n",
       "      <td>36</td>\n",
       "      <td>2</td>\n",
       "      <td>63</td>\n",
       "    </tr>\n",
       "  </tbody>\n",
       "</table>\n",
       "</div>"
      ],
      "text/plain": [
       "   date  price  code  vol\n",
       "0     1     15     1   95\n",
       "1     2     23     1   14\n",
       "2     3     54     1   47\n",
       "3     1     26     2   85\n",
       "4     2     82     2   29\n",
       "5     3     36     2   63"
      ]
     },
     "execution_count": 16,
     "metadata": {},
     "output_type": "execute_result"
    }
   ],
   "source": [
    "pd.merge(a1,a2, on =['date', 'code'])"
   ]
  },
  {
   "cell_type": "code",
   "execution_count": 17,
   "metadata": {},
   "outputs": [
    {
     "data": {
      "text/html": [
       "<div>\n",
       "<style scoped>\n",
       "    .dataframe tbody tr th:only-of-type {\n",
       "        vertical-align: middle;\n",
       "    }\n",
       "\n",
       "    .dataframe tbody tr th {\n",
       "        vertical-align: top;\n",
       "    }\n",
       "\n",
       "    .dataframe thead th {\n",
       "        text-align: right;\n",
       "    }\n",
       "</style>\n",
       "<table border=\"1\" class=\"dataframe\">\n",
       "  <thead>\n",
       "    <tr style=\"text-align: right;\">\n",
       "      <th></th>\n",
       "      <th>date</th>\n",
       "      <th>vol</th>\n",
       "      <th>code</th>\n",
       "    </tr>\n",
       "  </thead>\n",
       "  <tbody>\n",
       "    <tr>\n",
       "      <th>0</th>\n",
       "      <td>1</td>\n",
       "      <td>95</td>\n",
       "      <td>1</td>\n",
       "    </tr>\n",
       "    <tr>\n",
       "      <th>1</th>\n",
       "      <td>2</td>\n",
       "      <td>14</td>\n",
       "      <td>1</td>\n",
       "    </tr>\n",
       "    <tr>\n",
       "      <th>2</th>\n",
       "      <td>3</td>\n",
       "      <td>47</td>\n",
       "      <td>1</td>\n",
       "    </tr>\n",
       "    <tr>\n",
       "      <th>3</th>\n",
       "      <td>1</td>\n",
       "      <td>85</td>\n",
       "      <td>2</td>\n",
       "    </tr>\n",
       "    <tr>\n",
       "      <th>4</th>\n",
       "      <td>2</td>\n",
       "      <td>29</td>\n",
       "      <td>2</td>\n",
       "    </tr>\n",
       "    <tr>\n",
       "      <th>5</th>\n",
       "      <td>3</td>\n",
       "      <td>63</td>\n",
       "      <td>2</td>\n",
       "    </tr>\n",
       "  </tbody>\n",
       "</table>\n",
       "</div>"
      ],
      "text/plain": [
       "   date  vol  code\n",
       "0     1   95     1\n",
       "1     2   14     1\n",
       "2     3   47     1\n",
       "3     1   85     2\n",
       "4     2   29     2\n",
       "5     3   63     2"
      ]
     },
     "execution_count": 17,
     "metadata": {},
     "output_type": "execute_result"
    }
   ],
   "source": [
    "a2.to_pickle('test.pickle')\n",
    "pd.read_pickle('test.pickle')"
   ]
  },
  {
   "cell_type": "code",
   "execution_count": 21,
   "metadata": {},
   "outputs": [
    {
     "name": "stdout",
     "output_type": "stream",
     "text": [
      "        date  vol  code\n",
      "0 2020-01-01   95     1\n",
      "1 2020-01-02   14     1\n",
      "2 2020-01-03   47     1\n",
      "3 2020-01-04   85     2\n",
      "4 2020-01-05   29     2\n",
      "5 2020-01-06   63     2\n",
      "<class 'pandas.core.frame.DataFrame'>\n",
      "RangeIndex: 6 entries, 0 to 5\n",
      "Data columns (total 3 columns):\n",
      "date    6 non-null datetime64[ns]\n",
      "vol     6 non-null int64\n",
      "code    6 non-null int64\n",
      "dtypes: datetime64[ns](1), int64(2)\n",
      "memory usage: 208.0 bytes\n"
     ]
    }
   ],
   "source": [
    "d = []\n",
    "for i in range(1,7):\n",
    "    d.append(datetime.datetime(2020,1,i))\n",
    "a2['date'] = d\n",
    "print(a2)\n",
    "a2.to_pickle('test.pickle')\n",
    "test = pd.read_pickle('test.pickle')\n",
    "test.info()"
   ]
  },
  {
   "cell_type": "code",
   "execution_count": null,
   "metadata": {},
   "outputs": [],
   "source": []
  },
  {
   "cell_type": "code",
   "execution_count": null,
   "metadata": {},
   "outputs": [],
   "source": []
  },
  {
   "cell_type": "code",
   "execution_count": null,
   "metadata": {},
   "outputs": [],
   "source": []
  }
 ],
 "metadata": {
  "kernelspec": {
   "display_name": "Python 3",
   "language": "python",
   "name": "python3"
  },
  "language_info": {
   "codemirror_mode": {
    "name": "ipython",
    "version": 3
   },
   "file_extension": ".py",
   "mimetype": "text/x-python",
   "name": "python",
   "nbconvert_exporter": "python",
   "pygments_lexer": "ipython3",
   "version": "3.6.10"
  }
 },
 "nbformat": 4,
 "nbformat_minor": 2
}
