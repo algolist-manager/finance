{
 "cells": [
  {
   "cell_type": "code",
   "execution_count": 1,
   "metadata": {},
   "outputs": [],
   "source": [
    "import win32com.client"
   ]
  },
  {
   "cell_type": "code",
   "execution_count": 149,
   "metadata": {},
   "outputs": [
    {
     "name": "stdout",
     "output_type": "stream",
     "text": [
      "1\n",
      "1\n"
     ]
    }
   ],
   "source": [
    "# 서버 연결\n",
    "obj = win32com.client.Dispatch('CpUtil.CpCybos')\n",
    "print(obj.Isconnect) # 연결 상태 / 1이 정상\n",
    "print(obj.ServerType) # 서버 연결 / 1이 정상, 2는 HTS만 연결"
   ]
  },
  {
   "cell_type": "code",
   "execution_count": 146,
   "metadata": {},
   "outputs": [],
   "source": [
    "# 주문과 관련된 정보 읽기\n",
    "tradeobj = win32com.client.Dispatch('CpTrade.CpTdUtil')"
   ]
  },
  {
   "cell_type": "code",
   "execution_count": 147,
   "metadata": {},
   "outputs": [
    {
     "name": "stdout",
     "output_type": "stream",
     "text": [
      "0\n",
      "335029644\n",
      "주식 10\n"
     ]
    }
   ],
   "source": [
    "initCheck = tradeobj.TradeInit(0) # 주문 초기화 / \n",
    "acc = tradeobj.AccountNumber[0] # 계좌 번호\n",
    "goods_type = tradeobj.GoodsList(acc,1)[0] # 1은 주식, 2는 선물/옵션\n",
    "print(initCheck)\n",
    "print(acc)\n",
    "print('주식', goods_type)"
   ]
  },
  {
   "cell_type": "code",
   "execution_count": 62,
   "metadata": {},
   "outputs": [],
   "source": [
    "# 주문하기\n",
    "stockorder = win32com.client.Dispatch('CpTrade.CpTd0311')"
   ]
  },
  {
   "cell_type": "code",
   "execution_count": 60,
   "metadata": {},
   "outputs": [],
   "source": [
    "buysell = '2' # 매도 1, 매수 2\n",
    "acc_num = '335029644' # 계좌번호\n",
    "goods_type = '10' # 주식 상품 구분\n",
    "short_code = 'A000660' # SK 하이닉스 종목코드\n",
    "quantity = 10 # 수량\n",
    "price = 99600 # 호가\n",
    "order_type = '0' # 0은 기본값, IOC는 1, FOK는 2\n",
    "call_type = '01' # 지정가 01, 임의 02, 시장가 03, 조건부지정가 05, 최유리 12, 최우선 13"
   ]
  },
  {
   "cell_type": "code",
   "execution_count": 63,
   "metadata": {},
   "outputs": [],
   "source": [
    "stockorder.SetInputValue(0,buysell) \n",
    "stockorder.SetInputValue(1,acc_num)\n",
    "stockorder.SetInputValue(2,goods_type)\n",
    "stockorder.SetInputValue(3,short_code)\n",
    "stockorder.SetInputValue(4,quantity)\n",
    "stockorder.SetInputValue(5,price)\n",
    "# stockorder.SetInputValue(6,)\n",
    "stockorder.SetInputValue(7, order_type)\n",
    "stockorder.SetInputValue(8,call_type)"
   ]
  },
  {
   "cell_type": "code",
   "execution_count": 64,
   "metadata": {},
   "outputs": [
    {
     "data": {
      "text/plain": [
       "0"
      ]
     },
     "execution_count": 64,
     "metadata": {},
     "output_type": "execute_result"
    }
   ],
   "source": [
    "stockorder.BlockRequest()"
   ]
  },
  {
   "cell_type": "code",
   "execution_count": 30,
   "metadata": {},
   "outputs": [],
   "source": [
    "status = stockorder.GetDibStatus() # 정상이면 0, \n",
    "st_msg = stockorder.GetDibMsg1() # 0040 모의투자 매수 주문이 완료되었습니다.(ordss.cststkord)\n",
    "print(status, st_msg)"
   ]
  },
  {
   "cell_type": "code",
   "execution_count": 116,
   "metadata": {},
   "outputs": [],
   "source": [
    "# 주문 체결 현황 확인\n",
    "account = win32com.client.Dispatch('CpTrade.CpTd5341')"
   ]
  },
  {
   "cell_type": "code",
   "execution_count": null,
   "metadata": {},
   "outputs": [],
   "source": [
    "sort_type = '0' # 순차 0, 역순 1\n",
    "num_data = 20 # default 7, maximum 20\n",
    "inq_type = '1' # 단가별 : 1, 건별 : 2, 합산 : 3"
   ]
  },
  {
   "cell_type": "code",
   "execution_count": 117,
   "metadata": {},
   "outputs": [],
   "source": [
    "account.SetInputValue(0,acc) # 계좌번호\n",
    "account.SetInputValue(1, goods_type) #상품관리구분코드 \n",
    "#account.SetInputValue(2,) # 종목코드 / 생략 시 전 종목\n",
    "#account.SetInputValue(3,) # 시작주문번호 / 생략 시 전 종목\n",
    "account.SetInputValue(4,sort_type) # 정렬 / 0은 순차, 1은 역순\n",
    "account.SetInputValue(5,num_data) # 요청개수 / 기본 7개 최대 20개\n",
    "account.SetInputValue(6, inq_type) # 조회구분 / 1 단가별 2 건별, 3 합산"
   ]
  },
  {
   "cell_type": "code",
   "execution_count": 118,
   "metadata": {},
   "outputs": [
    {
     "data": {
      "text/plain": [
       "0"
      ]
     },
     "execution_count": 118,
     "metadata": {},
     "output_type": "execute_result"
    }
   ],
   "source": [
    "account.BlockRequest()"
   ]
  },
  {
   "cell_type": "code",
   "execution_count": 119,
   "metadata": {},
   "outputs": [
    {
     "name": "stdout",
     "output_type": "stream",
     "text": [
      "상품구분 10\n",
      "주문번호 2275\n",
      "원주문번호 0\n",
      "종목코드 A005930\n",
      "종목이름 삼성전자\n",
      "주문내용 정규장현금매수\n",
      "주문수량 10\n",
      "주문단가 61700\n",
      "총체결수량 10\n",
      "체결수량 10\n",
      "체결단가 61600\n",
      "확인수량 0\n"
     ]
    }
   ],
   "source": [
    "print('상품구분', account.GetDataValue(0,0))\n",
    "print('주문번호',account.GetDataValue(1,0))\n",
    "print('원주문번호',account.GetDataValue(2,0))\n",
    "print('종목코드',account.GetDataValue(3,0))\n",
    "print('종목이름',account.GetDataValue(4,0))\n",
    "print('주문내용',account.GetDataValue(5,0))\n",
    "print('주문수량',account.GetDataValue(7,0))\n",
    "print('주문단가',account.GetDataValue(8,0))\n",
    "print('총체결수량',account.GetDataValue(9,0))\n",
    "print('체결수량',account.GetDataValue(10,0))\n",
    "print('체결단가',account.GetDataValue(11,0))\n",
    "print('확인수량',account.GetDataValue(12,0))"
   ]
  },
  {
   "cell_type": "code",
   "execution_count": 120,
   "metadata": {},
   "outputs": [
    {
     "name": "stdout",
     "output_type": "stream",
     "text": [
      "상품구분 10\n",
      "주문번호 3164\n",
      "원주문번호 0\n",
      "종목코드 A000660\n",
      "종목이름 SK하이닉스\n",
      "주문내용 정규장현금매수\n",
      "주문수량 10\n",
      "주문단가 99600\n",
      "총체결수량 10\n",
      "체결수량 10\n",
      "체결단가 99300\n",
      "확인수량 0\n"
     ]
    }
   ],
   "source": [
    "print('상품구분', account.GetDataValue(0,1))\n",
    "print('주문번호',account.GetDataValue(1,1))\n",
    "print('원주문번호',account.GetDataValue(2,1))\n",
    "print('종목코드',account.GetDataValue(3,1))\n",
    "print('종목이름',account.GetDataValue(4,1))\n",
    "print('주문내용',account.GetDataValue(5,1))\n",
    "print('주문수량',account.GetDataValue(7,1))\n",
    "print('주문단가',account.GetDataValue(8,1))\n",
    "print('총체결수량',account.GetDataValue(9,1))\n",
    "print('체결수량',account.GetDataValue(10,1))\n",
    "print('체결단가',account.GetDataValue(11,1))\n",
    "print('확인수량',account.GetDataValue(12,1))"
   ]
  },
  {
   "cell_type": "code",
   "execution_count": 86,
   "metadata": {},
   "outputs": [
    {
     "name": "stdout",
     "output_type": "stream",
     "text": [
      "계좌 335029644\n",
      "상품구분 10\n",
      "수신 2\n"
     ]
    }
   ],
   "source": [
    "print('계좌번호', account.GetHeaderValue(0))\n",
    "print('상품구분', account.GetHeaderValue(1))\n",
    "print('수신', account.GetHeaderValue(6))"
   ]
  },
  {
   "cell_type": "code",
   "execution_count": 131,
   "metadata": {},
   "outputs": [],
   "source": [
    "# 잔고 조회 cp6033\n",
    "cp6033 = win32com.client.Dispatch('CpTrade.CpTd6033')"
   ]
  },
  {
   "cell_type": "code",
   "execution_count": null,
   "metadata": {},
   "outputs": [],
   "source": [
    "num_data = 50 # default 14, maximum 50\n",
    "return_type = '1' # 100% 기준 : 1, 0% 기준 : 0"
   ]
  },
  {
   "cell_type": "code",
   "execution_count": 132,
   "metadata": {},
   "outputs": [],
   "source": [
    "cp6033.SetInputValue(0,acc)\n",
    "cp6033.SetInputValue(1,goods_type)\n",
    "cp6033.SetInputValue(2,num_data)\n",
    "cp6033.SetInputValue(3,return_type) "
   ]
  },
  {
   "cell_type": "code",
   "execution_count": 133,
   "metadata": {},
   "outputs": [
    {
     "data": {
      "text/plain": [
       "0"
      ]
     },
     "execution_count": 133,
     "metadata": {},
     "output_type": "execute_result"
    }
   ],
   "source": [
    "cp6033.BlockRequest()"
   ]
  },
  {
   "cell_type": "code",
   "execution_count": 134,
   "metadata": {
    "scrolled": true
   },
   "outputs": [
    {
     "name": "stdout",
     "output_type": "stream",
     "text": [
      "계좌정보 \n",
      "결제잔고수량 0\n",
      "체결잔고수량 20\n",
      "평가금액 501607000\n",
      "평가손익 -2000\n",
      "대출금액 0\n",
      "수신개수 2\n",
      "수익율 99.99960128307107\n"
     ]
    }
   ],
   "source": [
    "print('계좌정보', cp6033.GetHeaderValue(0)) # 안 보여줌.\n",
    "print('결제잔고수량',cp6033.GetHeaderValue(1)) \n",
    "print('체결잔고수량',cp6033.GetHeaderValue(2))\n",
    "print('평가금액',cp6033.GetHeaderValue(3)) \n",
    "print('평가손익',cp6033.GetHeaderValue(4)) \n",
    "print('대출금액',cp6033.GetHeaderValue(6)) \n",
    "print('수신개수',cp6033.GetHeaderValue(7)) \n",
    "print('수익율',cp6033.GetHeaderValue(8)) "
   ]
  },
  {
   "cell_type": "code",
   "execution_count": 135,
   "metadata": {},
   "outputs": [
    {
     "name": "stdout",
     "output_type": "stream",
     "text": [
      "종목명 SK하이닉스\n",
      "신용구분 32\n",
      "대출일 \n",
      "결제잔고수량 0\n",
      "결제장부단가 99300\n",
      "전일체결수량 0\n",
      "금일체결수량 10\n",
      "체결잔고수량 10\n",
      "평가금액 988156000\n",
      "평가손익 -7204000\n",
      "수익률 -0.7238574526964853\n",
      "종목코드 A000660\n",
      "주문구분 32\n",
      "체결장부단가 99536.124829\n",
      "손익단가 100020\n"
     ]
    }
   ],
   "source": [
    "print('종목명',cp6033.GetDataValue(0,0))\n",
    "print('신용구분',cp6033.GetDataValue(1,0))\n",
    "print('대출일',cp6033.GetDataValue(2,0))\n",
    "print('결제잔고수량',cp6033.GetDataValue(3,0))\n",
    "print('결제장부단가',cp6033.GetDataValue(4,0))\n",
    "print('전일체결수량',cp6033.GetDataValue(5,0))\n",
    "print('금일체결수량',cp6033.GetDataValue(6,0))\n",
    "print('체결잔고수량',cp6033.GetDataValue(7,0))\n",
    "# print(cp6033.GetDataValue(8,0))\n",
    "print('평가금액',cp6033.GetDataValue(9,0))\n",
    "print('평가손익',cp6033.GetDataValue(10,0))\n",
    "print('수익률',cp6033.GetDataValue(11,0))\n",
    "print('종목코드',cp6033.GetDataValue(12,0))\n",
    "print('주문구분',cp6033.GetDataValue(13,0))\n",
    "print('체결장부단가',cp6033.GetDataValue(17,0))\n",
    "print('손익단가',cp6033.GetDataValue(18,0))\n",
    "\n",
    "# 주문 구분의 32는 현금 매수를 말하는듯"
   ]
  },
  {
   "cell_type": "code",
   "execution_count": null,
   "metadata": {},
   "outputs": [],
   "source": []
  },
  {
   "cell_type": "code",
   "execution_count": null,
   "metadata": {},
   "outputs": [],
   "source": []
  },
  {
   "cell_type": "code",
   "execution_count": null,
   "metadata": {},
   "outputs": [],
   "source": []
  },
  {
   "cell_type": "code",
   "execution_count": null,
   "metadata": {},
   "outputs": [],
   "source": [
    "import sys\n",
    "from PyQt5.QtWidgets import *\n",
    "import win32com.client\n",
    " \n",
    "# 설명: 주식 계좌잔고 종목(최대 200개)을 가져와 현재가  실시간 조회하는 샘플\n",
    "# CpEvent: 실시간 현재가 수신 클래스\n",
    "# CpStockCur : 현재가 실시간 통신 클래스\n",
    "# Cp6033 : 주식 잔고 조회\n",
    "# CpMarketEye: 복수 종목 조회 서비스 - 200 종목 현재가를 조회 함.\n",
    " \n",
    "# CpEvent: 실시간 이벤트 수신 클래스\n",
    "class CpEvent:\n",
    "    def set_params(self, client):\n",
    "        self.client = client\n",
    " \n",
    "    def OnReceived(self):\n",
    "        code = self.client.GetHeaderValue(0)  # 초\n",
    "        name = self.client.GetHeaderValue(1)  # 초\n",
    "        timess = self.client.GetHeaderValue(18)  # 초\n",
    "        exFlag = self.client.GetHeaderValue(19)  # 예상체결 플래그\n",
    "        cprice = self.client.GetHeaderValue(13)  # 현재가\n",
    "        diff = self.client.GetHeaderValue(2)  # 대비\n",
    "        cVol = self.client.GetHeaderValue(17)  # 순간체결수량\n",
    "        vol = self.client.GetHeaderValue(9)  # 거래량\n",
    " \n",
    "        if (exFlag == ord('1')):  # 동시호가 시간 (예상체결)\n",
    "            print(\"실시간(예상체결)\", name, timess, \"*\", cprice, \"대비\", diff, \"체결량\", cVol, \"거래량\", vol)\n",
    "        elif (exFlag == ord('2')):  # 장중(체결)\n",
    "            print(\"실시간(장중 체결)\", name, timess, cprice, \"대비\", diff, \"체결량\", cVol, \"거래량\", vol)\n",
    " \n",
    "# CpStockCur: 실시간 현재가 요청 클래스\n",
    "class CpStockCur:\n",
    "    def Subscribe(self, code):\n",
    "        self.objStockCur = win32com.client.Dispatch(\"DsCbo1.StockCur\")\n",
    "        handler = win32com.client.WithEvents(self.objStockCur, CpEvent)\n",
    "        self.objStockCur.SetInputValue(0, code)\n",
    "        handler.set_params(self.objStockCur)\n",
    "        self.objStockCur.Subscribe()\n",
    " \n",
    "    def Unsubscribe(self):\n",
    "        self.objStockCur.Unsubscribe()\n",
    " \n",
    " \n",
    "# Cp6033 : 주식 잔고 조회\n",
    "class Cp6033:\n",
    "    def __init__(self):\n",
    "        # 통신 OBJECT 기본 세팅\n",
    "        self.objTrade = win32com.client.Dispatch(\"CpTrade.CpTdUtil\")\n",
    "        initCheck = self.objTrade.TradeInit(0)\n",
    "        if (initCheck != 0):\n",
    "            print(\"주문 초기화 실패\")\n",
    "            return\n",
    " \n",
    "        # \n",
    "        acc = self.objTrade.AccountNumber[0]  # 계좌번호\n",
    "        accFlag = self.objTrade.GoodsList(acc, 1)  # 주식상품 구분\n",
    "        print(acc, accFlag[0])\n",
    " \n",
    "        self.objRq = win32com.client.Dispatch(\"CpTrade.CpTd6033\")\n",
    "        self.objRq.SetInputValue(0, acc)  # 계좌번호\n",
    "        self.objRq.SetInputValue(1, accFlag[0])  # 상품구분 - 주식 상품 중 첫번째\n",
    "        self.objRq.SetInputValue(2, 50)  #  요청 건수(최대 50)\n",
    " \n",
    "    # 실제적인 6033 통신 처리\n",
    "    def rq6033(self, retcode):\n",
    "        self.objRq.BlockRequest()\n",
    " \n",
    "        # 통신 및 통신 에러 처리\n",
    "        rqStatus = self.objRq.GetDibStatus()\n",
    "        rqRet = self.objRq.GetDibMsg1()\n",
    "        print(\"통신상태\", rqStatus, rqRet)\n",
    "        if rqStatus != 0:\n",
    "            return False\n",
    " \n",
    "        cnt = self.objRq.GetHeaderValue(7)\n",
    "        print(cnt)\n",
    " \n",
    "        print(\"종목코드 종목명 신용구분 체결잔고수량 체결장부단가 평가금액 평가손익\")\n",
    "        for i in range(cnt):\n",
    "            code = self.objRq.GetDataValue(12, i)  # 종목코드\n",
    "            name = self.objRq.GetDataValue(0, i)  # 종목명\n",
    "            retcode.append(code)\n",
    "            if len(retcode) >=  200:       # 최대 200 종목만,\n",
    "                break\n",
    "            cashFlag = self.objRq.GetDataValue(1, i)  # 신용구분\n",
    "            date = self.objRq.GetDataValue(2, i)  # 대출일\n",
    "            amount = self.objRq.GetDataValue(7, i) # 체결잔고수량\n",
    "            buyPrice = self.objRq.GetDataValue(17, i) # 체결장부단가\n",
    "            evalValue = self.objRq.GetDataValue(9, i) # 평가금액(천원미만은 절사 됨)\n",
    "            evalPerc = self.objRq.GetDataValue(11, i) # 평가손익\n",
    " \n",
    "            print(code, name, cashFlag, amount, buyPrice, evalValue, evalPerc)\n",
    " \n",
    "    def Request(self, retCode):\n",
    "        self.rq6033(retCode)\n",
    " \n",
    "        # 연속 데이터 조회 - 200 개까지만.\n",
    "        while self.objRq.Continue:\n",
    "            self.rq6033(retCode)\n",
    "            print(len(retCode))\n",
    "            if len(retCode) >= 200:\n",
    "                break\n",
    "        # for debug\n",
    "        size = len(retCode)\n",
    "        for i in range(size):\n",
    "            print(retCode[i])\n",
    "        return True\n",
    " \n",
    " \n",
    "# CpMarketEye : 복수종목 현재가 통신 서비스\n",
    "class CpMarketEye:\n",
    "    def Request(self, codes, rqField):\n",
    "        # 연결 여부 체크\n",
    "        objCpCybos = win32com.client.Dispatch(\"CpUtil.CpCybos\")\n",
    "        bConnect = objCpCybos.IsConnect\n",
    "        if (bConnect == 0):\n",
    "            print(\"PLUS가 정상적으로 연결되지 않음. \")\n",
    "            return False\n",
    " \n",
    "        # 관심종목 객체 구하기\n",
    "        objRq = win32com.client.Dispatch(\"CpSysDib.MarketEye\")\n",
    "        # 요청 필드 세팅 - 종목코드, 종목명, 시간, 대비부호, 대비, 현재가, 거래량\n",
    "        # rqField = [0,17, 1,2,3,4,10]\n",
    "        objRq.SetInputValue(0, rqField) # 요청 필드\n",
    "        objRq.SetInputValue(1, codes)  # 종목코드 or 종목코드 리스트\n",
    "        objRq.BlockRequest()\n",
    " \n",
    " \n",
    "        # 현재가 통신 및 통신 에러 처리\n",
    "        rqStatus = objRq.GetDibStatus()\n",
    "        rqRet = objRq.GetDibMsg1()\n",
    "        print(\"통신상태\", rqStatus, rqRet)\n",
    "        if rqStatus != 0:\n",
    "            return False\n",
    " \n",
    "        cnt  = objRq.GetHeaderValue(2)\n",
    " \n",
    "        for i in range(cnt):\n",
    "            rpCode = objRq.GetDataValue(0, i)  # 코드\n",
    "            rpName = objRq.GetDataValue(1, i)  # 종목명\n",
    "            rpTime= objRq.GetDataValue(2, i)  # 시간\n",
    "            rpDiffFlag = objRq.GetDataValue(3, i)  # 대비부호\n",
    "            rpDiff = objRq.GetDataValue(4, i)  # 대비\n",
    "            rpCur = objRq.GetDataValue(5, i)  # 현재가\n",
    "            rpVol = objRq.GetDataValue(6, i)  # 거래량\n",
    "            print(rpCode, rpName, rpTime,  rpDiffFlag, rpDiff, rpCur, rpVol)\n",
    " \n",
    "        return True\n",
    " \n",
    " \n",
    " \n",
    "class MyWindow(QMainWindow):\n",
    " \n",
    "    def __init__(self):\n",
    "        super().__init__()\n",
    "        self.setWindowTitle(\"PLUS API TEST\")\n",
    "        self.setGeometry(300, 300, 300, 180)\n",
    "        self.isSB = False\n",
    "        self.objCur = []\n",
    " \n",
    "        btnStart = QPushButton(\"요청 시작\", self)\n",
    "        btnStart.move(20, 20)\n",
    "        btnStart.clicked.connect(self.btnStart_clicked)\n",
    " \n",
    "        btnStop = QPushButton(\"요청 종료\", self)\n",
    "        btnStop.move(20, 70)\n",
    "        btnStop.clicked.connect(self.btnStop_clicked)\n",
    " \n",
    "        btnExit = QPushButton(\"종료\", self)\n",
    "        btnExit.move(20, 120)\n",
    "        btnExit.clicked.connect(self.btnExit_clicked)\n",
    " \n",
    "    def StopSubscribe(self):\n",
    "        if self.isSB:\n",
    "            cnt = len(self.objCur)\n",
    "            for i in range(cnt):\n",
    "                self.objCur[i].Unsubscribe()\n",
    "            print(cnt, \"종목 실시간 해지되었음\")\n",
    "        self.isSB = False\n",
    " \n",
    "        self.objCur = []\n",
    " \n",
    "    def btnStart_clicked(self):\n",
    "        self.StopSubscribe();\n",
    "        codes = []\n",
    "        obj6033 = Cp6033()\n",
    "        if obj6033.Request(codes) == False:\n",
    "            return\n",
    " \n",
    "        print(\"잔고 종목 개수:\", len(codes))\n",
    " \n",
    "        # 요청 필드 배열 - 종목코드, 시간, 대비부호 대비, 현재가, 거래량, 종목명\n",
    "        rqField = [0, 1, 2, 3, 4, 10, 17]  #요청 필드\n",
    "        objMarkeyeye = CpMarketEye()\n",
    "        if (objMarkeyeye.Request(codes, rqField) == False):\n",
    "            exit()\n",
    " \n",
    "        cnt = len(codes)\n",
    "        for i in range(cnt):\n",
    "            self.objCur.append(CpStockCur())\n",
    "            self.objCur[i].Subscribe(codes[i])\n",
    " \n",
    "        print(\"빼기빼기================-\")\n",
    "        print(cnt , \"종목 실시간 현재가 요청 시작\")\n",
    "        self.isSB = True\n",
    " \n",
    "    def btnStop_clicked(self):\n",
    "        self.StopSubscribe()\n",
    " \n",
    " \n",
    "    def btnExit_clicked(self):\n",
    "        self.StopSubscribe()\n",
    "        exit()\n",
    " \n",
    "if __name__ == \"__main__\":\n",
    "    app = QApplication(sys.argv)\n",
    "    myWindow = MyWindow()\n",
    "    myWindow.show()\n",
    "    app.exec_()\n"
   ]
  },
  {
   "cell_type": "code",
   "execution_count": null,
   "metadata": {},
   "outputs": [],
   "source": [
    "import win32com.client\n",
    " \n",
    " \n",
    "# 연결 여부 체크\n",
    "objCpCybos = win32com.client.Dispatch(\"CpUtil.CpCybos\")\n",
    "bConnect = objCpCybos.IsConnect\n",
    "if (bConnect == 0):\n",
    "    print(\"PLUS가 정상적으로 연결되지 않음. \")\n",
    "    exit()\n",
    " \n",
    "# 주문 초기화\n",
    "objTrade =  win32com.client.Dispatch(\"CpTrade.CpTdUtil\")\n",
    "initCheck = objTrade.TradeInit(0)\n",
    "if (initCheck != 0):\n",
    "    print(\"주문 초기화 실패\")\n",
    "    exit()\n",
    " \n",
    " \n",
    "# 주식 매수 주문\n",
    "acc = objTrade.AccountNumber[0] #계좌번호\n",
    "accFlag = objTrade.GoodsList(acc, 1)  # 주식상품 구분\n",
    "print(acc, accFlag[0])\n",
    "objStockOrder = win32com.client.Dispatch(\"CpTrade.CpTd0311\")\n",
    "objStockOrder.SetInputValue(0, \"2\")   # 2: 매수\n",
    "objStockOrder.SetInputValue(1, acc )   #  계좌번호\n",
    "objStockOrder.SetInputValue(2, accFlag[0])   # 상품구분 - 주식 상품 중 첫번째\n",
    "objStockOrder.SetInputValue(3, \"A003540\")   # 종목코드 - A003540 - 대신증권 종목\n",
    "objStockOrder.SetInputValue(4, 10)   # 매수수량 10주\n",
    "objStockOrder.SetInputValue(5, 14100)   # 주문단가  - 14,100원\n",
    "objStockOrder.SetInputValue(7, \"0\")   # 주문 조건 구분 코드, 0: 기본 1: IOC 2:FOK\n",
    "objStockOrder.SetInputValue(8, \"01\")   # 주문호가 구분코드 - 01: 보통\n",
    " \n",
    "# 매수 주문 요청\n",
    "objStockOrder.BlockRequest()\n",
    " \n",
    "rqStatus = objStockOrder.GetDibStatus()\n",
    "rqRet = objStockOrder.GetDibMsg1()\n",
    "print(\"통신상태\", rqStatus, rqRet)\n",
    "if rqStatus != 0:\n",
    "    exit()\n"
   ]
  }
 ],
 "metadata": {
  "kernelspec": {
   "display_name": "Python 3",
   "language": "python",
   "name": "python3"
  },
  "language_info": {
   "codemirror_mode": {
    "name": "ipython",
    "version": 3
   },
   "file_extension": ".py",
   "mimetype": "text/x-python",
   "name": "python",
   "nbconvert_exporter": "python",
   "pygments_lexer": "ipython3",
   "version": "3.6.10"
  }
 },
 "nbformat": 4,
 "nbformat_minor": 2
}
