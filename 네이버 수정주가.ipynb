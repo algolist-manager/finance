{
 "cells": [
  {
   "cell_type": "code",
   "execution_count": 163,
   "metadata": {},
   "outputs": [],
   "source": [
    "import requests\n",
    "import pandas as pd\n",
    "from bs4 import BeautifulSoup as bs"
   ]
  },
  {
   "cell_type": "code",
   "execution_count": 164,
   "metadata": {},
   "outputs": [],
   "source": [
    "from datamanager import datamanager as mg\n",
    "mg = mg()"
   ]
  },
  {
   "cell_type": "code",
   "execution_count": 166,
   "metadata": {},
   "outputs": [],
   "source": [
    "def link_list(multi_layered):  \n",
    "    linked = []    \n",
    "    for i in range(len(multi_layered)):\n",
    "        linked += multi_layered[i]\n",
    "    return linked "
   ]
  },
  {
   "cell_type": "code",
   "execution_count": 165,
   "metadata": {},
   "outputs": [],
   "source": [
    "def get_adj_naver_list(num_code, count):\n",
    "    # num_code = '005930'\n",
    "    # count = 500 -> 실제 거래일 수와 달라서 to_date가 0이 아닐 수 있다. 그리고 시작 시점을 조절하지 못함.\n",
    "    url = 'https://fchart.stock.naver.com/sise.nhn'\n",
    "    payload = {\n",
    "        'symbol' : num_code,\n",
    "        'timeframe' : 'day',\n",
    "        'count' : count,\n",
    "        'requestType' : 0\n",
    "    }\n",
    "    req = requests.get(url, params=payload).text\n",
    "    soup = bs(req,'lxml')\n",
    "    row_list = []\n",
    "    for item in soup.findAll('item'):\n",
    "        row = item['data'].split('|')\n",
    "        row.append('A'+ num_code)\n",
    "        row_list.append(row)\n",
    "    \n",
    "    return row_list"
   ]
  },
  {
   "cell_type": "code",
   "execution_count": 167,
   "metadata": {},
   "outputs": [],
   "source": [
    "def get_naver_companies():\n",
    "    \"\"\"\n",
    "    naver는 \n",
    "    \"\"\"\n",
    "    url = 'https://finance.naver.com/sise/sise_market_sum.nhn'\n",
    "    payload = dict()\n",
    "    company_pages = []\n",
    "    for j in [0,1]: # 0은 코스피, 1은 코스닥\n",
    "        for i in range(1, 33):\n",
    "            payload['sosok'] = j\n",
    "            payload['page'] = i\n",
    "            req = requests.get(url, params=payload).text\n",
    "            soup = bs(req, 'lxml')    \n",
    "            company_pages.append(pd.read_html(req)[1])\n",
    "\n",
    "    df = pd.concat(company_pages)\n",
    "    companies = df['종목명']\n",
    "    companies.dropna(inplace=True)\n",
    "    companies.reset_index(drop=True, inplace=True)\n",
    "    return companies"
   ]
  },
  {
   "cell_type": "code",
   "execution_count": 191,
   "metadata": {},
   "outputs": [],
   "source": [
    "x = pd.read_pickle('../Database/10year.pickle')"
   ]
  },
  {
   "cell_type": "code",
   "execution_count": 194,
   "metadata": {},
   "outputs": [],
   "source": [
    "test = x[x['short_code'] == 'A149940'].copy()"
   ]
  },
  {
   "cell_type": "code",
   "execution_count": 195,
   "metadata": {},
   "outputs": [
    {
     "data": {
      "text/html": [
       "<div>\n",
       "<style scoped>\n",
       "    .dataframe tbody tr th:only-of-type {\n",
       "        vertical-align: middle;\n",
       "    }\n",
       "\n",
       "    .dataframe tbody tr th {\n",
       "        vertical-align: top;\n",
       "    }\n",
       "\n",
       "    .dataframe thead th {\n",
       "        text-align: right;\n",
       "    }\n",
       "</style>\n",
       "<table border=\"1\" class=\"dataframe\">\n",
       "  <thead>\n",
       "    <tr style=\"text-align: right;\">\n",
       "      <th></th>\n",
       "      <th>open</th>\n",
       "      <th>high</th>\n",
       "      <th>low</th>\n",
       "      <th>close</th>\n",
       "      <th>volume</th>\n",
       "      <th>short_code</th>\n",
       "    </tr>\n",
       "    <tr>\n",
       "      <th>date</th>\n",
       "      <th></th>\n",
       "      <th></th>\n",
       "      <th></th>\n",
       "      <th></th>\n",
       "      <th></th>\n",
       "      <th></th>\n",
       "    </tr>\n",
       "  </thead>\n",
       "  <tbody>\n",
       "    <tr>\n",
       "      <th>2012-09-25</th>\n",
       "      <td>4450</td>\n",
       "      <td>5000</td>\n",
       "      <td>3785</td>\n",
       "      <td>3785</td>\n",
       "      <td>2263306</td>\n",
       "      <td>A149940</td>\n",
       "    </tr>\n",
       "    <tr>\n",
       "      <th>2012-09-26</th>\n",
       "      <td>3770</td>\n",
       "      <td>4350</td>\n",
       "      <td>3765</td>\n",
       "      <td>4350</td>\n",
       "      <td>1021390</td>\n",
       "      <td>A149940</td>\n",
       "    </tr>\n",
       "    <tr>\n",
       "      <th>2012-09-27</th>\n",
       "      <td>4250</td>\n",
       "      <td>4950</td>\n",
       "      <td>4175</td>\n",
       "      <td>4460</td>\n",
       "      <td>2573751</td>\n",
       "      <td>A149940</td>\n",
       "    </tr>\n",
       "    <tr>\n",
       "      <th>2012-09-28</th>\n",
       "      <td>4600</td>\n",
       "      <td>4795</td>\n",
       "      <td>4075</td>\n",
       "      <td>4140</td>\n",
       "      <td>892922</td>\n",
       "      <td>A149940</td>\n",
       "    </tr>\n",
       "    <tr>\n",
       "      <th>2012-10-02</th>\n",
       "      <td>4185</td>\n",
       "      <td>4185</td>\n",
       "      <td>3835</td>\n",
       "      <td>3915</td>\n",
       "      <td>505847</td>\n",
       "      <td>A149940</td>\n",
       "    </tr>\n",
       "    <tr>\n",
       "      <th>...</th>\n",
       "      <td>...</td>\n",
       "      <td>...</td>\n",
       "      <td>...</td>\n",
       "      <td>...</td>\n",
       "      <td>...</td>\n",
       "      <td>...</td>\n",
       "    </tr>\n",
       "    <tr>\n",
       "      <th>2020-02-07</th>\n",
       "      <td>0</td>\n",
       "      <td>0</td>\n",
       "      <td>0</td>\n",
       "      <td>155</td>\n",
       "      <td>0</td>\n",
       "      <td>A149940</td>\n",
       "    </tr>\n",
       "    <tr>\n",
       "      <th>2020-02-10</th>\n",
       "      <td>0</td>\n",
       "      <td>0</td>\n",
       "      <td>0</td>\n",
       "      <td>155</td>\n",
       "      <td>0</td>\n",
       "      <td>A149940</td>\n",
       "    </tr>\n",
       "    <tr>\n",
       "      <th>2020-02-11</th>\n",
       "      <td>0</td>\n",
       "      <td>0</td>\n",
       "      <td>0</td>\n",
       "      <td>155</td>\n",
       "      <td>0</td>\n",
       "      <td>A149940</td>\n",
       "    </tr>\n",
       "    <tr>\n",
       "      <th>2020-02-12</th>\n",
       "      <td>0</td>\n",
       "      <td>0</td>\n",
       "      <td>0</td>\n",
       "      <td>155</td>\n",
       "      <td>0</td>\n",
       "      <td>A149940</td>\n",
       "    </tr>\n",
       "    <tr>\n",
       "      <th>2020-02-13</th>\n",
       "      <td>0</td>\n",
       "      <td>0</td>\n",
       "      <td>0</td>\n",
       "      <td>155</td>\n",
       "      <td>0</td>\n",
       "      <td>A149940</td>\n",
       "    </tr>\n",
       "  </tbody>\n",
       "</table>\n",
       "<p>1813 rows × 6 columns</p>\n",
       "</div>"
      ],
      "text/plain": [
       "            open  high   low  close   volume short_code\n",
       "date                                                   \n",
       "2012-09-25  4450  5000  3785   3785  2263306    A149940\n",
       "2012-09-26  3770  4350  3765   4350  1021390    A149940\n",
       "2012-09-27  4250  4950  4175   4460  2573751    A149940\n",
       "2012-09-28  4600  4795  4075   4140   892922    A149940\n",
       "2012-10-02  4185  4185  3835   3915   505847    A149940\n",
       "...          ...   ...   ...    ...      ...        ...\n",
       "2020-02-07     0     0     0    155        0    A149940\n",
       "2020-02-10     0     0     0    155        0    A149940\n",
       "2020-02-11     0     0     0    155        0    A149940\n",
       "2020-02-12     0     0     0    155        0    A149940\n",
       "2020-02-13     0     0     0    155        0    A149940\n",
       "\n",
       "[1813 rows x 6 columns]"
      ]
     },
     "execution_count": 195,
     "metadata": {},
     "output_type": "execute_result"
    }
   ],
   "source": [
    "test"
   ]
  },
  {
   "cell_type": "code",
   "execution_count": null,
   "metadata": {},
   "outputs": [],
   "source": []
  },
  {
   "cell_type": "code",
   "execution_count": null,
   "metadata": {},
   "outputs": [],
   "source": []
  },
  {
   "cell_type": "code",
   "execution_count": 190,
   "metadata": {},
   "outputs": [
    {
     "data": {
      "text/html": [
       "<div>\n",
       "<style scoped>\n",
       "    .dataframe tbody tr th:only-of-type {\n",
       "        vertical-align: middle;\n",
       "    }\n",
       "\n",
       "    .dataframe tbody tr th {\n",
       "        vertical-align: top;\n",
       "    }\n",
       "\n",
       "    .dataframe thead th {\n",
       "        text-align: right;\n",
       "    }\n",
       "</style>\n",
       "<table border=\"1\" class=\"dataframe\">\n",
       "  <thead>\n",
       "    <tr style=\"text-align: right;\">\n",
       "      <th></th>\n",
       "      <th>codeName</th>\n",
       "      <th>short_code</th>\n",
       "    </tr>\n",
       "  </thead>\n",
       "  <tbody>\n",
       "    <tr>\n",
       "      <th>0</th>\n",
       "      <td>삼성전자</td>\n",
       "      <td>A005930</td>\n",
       "    </tr>\n",
       "    <tr>\n",
       "      <th>1</th>\n",
       "      <td>SK하이닉스</td>\n",
       "      <td>A000660</td>\n",
       "    </tr>\n",
       "    <tr>\n",
       "      <th>2</th>\n",
       "      <td>삼성전자우</td>\n",
       "      <td>A005935</td>\n",
       "    </tr>\n",
       "    <tr>\n",
       "      <th>3</th>\n",
       "      <td>삼성바이오로직스</td>\n",
       "      <td>A207940</td>\n",
       "    </tr>\n",
       "    <tr>\n",
       "      <th>4</th>\n",
       "      <td>NAVER</td>\n",
       "      <td>A035420</td>\n",
       "    </tr>\n",
       "    <tr>\n",
       "      <th>...</th>\n",
       "      <td>...</td>\n",
       "      <td>...</td>\n",
       "    </tr>\n",
       "    <tr>\n",
       "      <th>2313</th>\n",
       "      <td>이베스트이안스팩1호</td>\n",
       "      <td>A323210</td>\n",
       "    </tr>\n",
       "    <tr>\n",
       "      <th>2314</th>\n",
       "      <td>IBKS제12호스팩</td>\n",
       "      <td>A335870</td>\n",
       "    </tr>\n",
       "    <tr>\n",
       "      <th>2315</th>\n",
       "      <td>대호피앤씨우</td>\n",
       "      <td>A021045</td>\n",
       "    </tr>\n",
       "    <tr>\n",
       "      <th>2316</th>\n",
       "      <td>소프트센우</td>\n",
       "      <td>A032685</td>\n",
       "    </tr>\n",
       "    <tr>\n",
       "      <th>2317</th>\n",
       "      <td>모다</td>\n",
       "      <td>A149940</td>\n",
       "    </tr>\n",
       "  </tbody>\n",
       "</table>\n",
       "<p>2318 rows × 2 columns</p>\n",
       "</div>"
      ],
      "text/plain": [
       "        codeName short_code\n",
       "0           삼성전자    A005930\n",
       "1         SK하이닉스    A000660\n",
       "2          삼성전자우    A005935\n",
       "3       삼성바이오로직스    A207940\n",
       "4          NAVER    A035420\n",
       "...          ...        ...\n",
       "2313  이베스트이안스팩1호    A323210\n",
       "2314  IBKS제12호스팩    A335870\n",
       "2315      대호피앤씨우    A021045\n",
       "2316       소프트센우    A032685\n",
       "2317          모다    A149940\n",
       "\n",
       "[2318 rows x 2 columns]"
      ]
     },
     "execution_count": 190,
     "metadata": {},
     "output_type": "execute_result"
    }
   ],
   "source": [
    "companies"
   ]
  },
  {
   "cell_type": "code",
   "execution_count": null,
   "metadata": {},
   "outputs": [],
   "source": []
  },
  {
   "cell_type": "code",
   "execution_count": null,
   "metadata": {},
   "outputs": [],
   "source": []
  },
  {
   "cell_type": "code",
   "execution_count": null,
   "metadata": {},
   "outputs": [],
   "source": []
  },
  {
   "cell_type": "code",
   "execution_count": null,
   "metadata": {},
   "outputs": [],
   "source": []
  },
  {
   "cell_type": "code",
   "execution_count": null,
   "metadata": {},
   "outputs": [],
   "source": []
  },
  {
   "cell_type": "code",
   "execution_count": null,
   "metadata": {},
   "outputs": [],
   "source": []
  },
  {
   "cell_type": "code",
   "execution_count": null,
   "metadata": {},
   "outputs": [],
   "source": []
  },
  {
   "cell_type": "code",
   "execution_count": null,
   "metadata": {},
   "outputs": [],
   "source": []
  },
  {
   "cell_type": "code",
   "execution_count": 94,
   "metadata": {},
   "outputs": [],
   "source": [
    "def get_naver_total(days):\n",
    "    com_list = mg.full_code['codeName']\n",
    "    code_list = mg.full_code['short_code']\n",
    "\n",
    "    com_code = dict()\n",
    "    for i, company in enumerate(com_list):\n",
    "        code = code_list[i]\n",
    "        com_code[company] = code\n",
    "\n",
    "    super_list = []\n",
    "    for i, com in enumerate(companies):\n",
    "        try:\n",
    "            short_code = com_code[com]\n",
    "            num_code = short_code[1:]\n",
    "            super_list.append(get_adj_naver_list(num_code, count=2500))\n",
    "        except KeyError:\n",
    "            pass\n",
    "\n",
    "\n",
    "    linked = pd.DataFrame(link_list(super_list)) \n",
    "    linked.columns = ['date', 'open' ,'high', 'low', 'close', 'volume','short_code']\n",
    "    linked['date'] = linked['date'].apply(lambda x : pd.to_datetime(x))   \n",
    "    linked[['open', 'high', 'low', 'close', 'volume']] = linked[['open' ,'high', 'low', 'close', 'volume']].applymap(lambda x : int(x))\n",
    "    linked.set_index('date', inplace=True)\n",
    "    \n",
    "    return linked\n",
    "\n",
    "    linked.to_pickle('../Database/10year.pickle')"
   ]
  },
  {
   "cell_type": "code",
   "execution_count": 95,
   "metadata": {},
   "outputs": [],
   "source": [
    "linked.info()"
   ]
  },
  {
   "cell_type": "code",
   "execution_count": 10,
   "metadata": {},
   "outputs": [],
   "source": [
    "saved = pd.read_pickle('../Database/10year.pickle')"
   ]
  },
  {
   "cell_type": "code",
   "execution_count": 84,
   "metadata": {},
   "outputs": [
    {
     "data": {
      "text/html": [
       "<div>\n",
       "<style scoped>\n",
       "    .dataframe tbody tr th:only-of-type {\n",
       "        vertical-align: middle;\n",
       "    }\n",
       "\n",
       "    .dataframe tbody tr th {\n",
       "        vertical-align: top;\n",
       "    }\n",
       "\n",
       "    .dataframe thead th {\n",
       "        text-align: right;\n",
       "    }\n",
       "</style>\n",
       "<table border=\"1\" class=\"dataframe\">\n",
       "  <thead>\n",
       "    <tr style=\"text-align: right;\">\n",
       "      <th></th>\n",
       "      <th>open</th>\n",
       "      <th>high</th>\n",
       "      <th>low</th>\n",
       "      <th>close</th>\n",
       "      <th>volume</th>\n",
       "      <th>short_code</th>\n",
       "    </tr>\n",
       "    <tr>\n",
       "      <th>date</th>\n",
       "      <th></th>\n",
       "      <th></th>\n",
       "      <th></th>\n",
       "      <th></th>\n",
       "      <th></th>\n",
       "      <th></th>\n",
       "    </tr>\n",
       "  </thead>\n",
       "  <tbody>\n",
       "    <tr>\n",
       "      <th>2009-12-18</th>\n",
       "      <td>15200</td>\n",
       "      <td>15580</td>\n",
       "      <td>15159</td>\n",
       "      <td>15460</td>\n",
       "      <td>406524</td>\n",
       "      <td>A005930</td>\n",
       "    </tr>\n",
       "    <tr>\n",
       "      <th>2009-12-21</th>\n",
       "      <td>15460</td>\n",
       "      <td>15540</td>\n",
       "      <td>15339</td>\n",
       "      <td>15420</td>\n",
       "      <td>291763</td>\n",
       "      <td>A005930</td>\n",
       "    </tr>\n",
       "    <tr>\n",
       "      <th>2009-12-22</th>\n",
       "      <td>15500</td>\n",
       "      <td>15620</td>\n",
       "      <td>15460</td>\n",
       "      <td>15620</td>\n",
       "      <td>245910</td>\n",
       "      <td>A005930</td>\n",
       "    </tr>\n",
       "    <tr>\n",
       "      <th>2009-12-23</th>\n",
       "      <td>15760</td>\n",
       "      <td>15760</td>\n",
       "      <td>15560</td>\n",
       "      <td>15680</td>\n",
       "      <td>250159</td>\n",
       "      <td>A005930</td>\n",
       "    </tr>\n",
       "    <tr>\n",
       "      <th>2009-12-24</th>\n",
       "      <td>15700</td>\n",
       "      <td>15880</td>\n",
       "      <td>15640</td>\n",
       "      <td>15800</td>\n",
       "      <td>407107</td>\n",
       "      <td>A005930</td>\n",
       "    </tr>\n",
       "    <tr>\n",
       "      <th>...</th>\n",
       "      <td>...</td>\n",
       "      <td>...</td>\n",
       "      <td>...</td>\n",
       "      <td>...</td>\n",
       "      <td>...</td>\n",
       "      <td>...</td>\n",
       "    </tr>\n",
       "    <tr>\n",
       "      <th>2020-02-04</th>\n",
       "      <td>401</td>\n",
       "      <td>515</td>\n",
       "      <td>270</td>\n",
       "      <td>316</td>\n",
       "      <td>29193142</td>\n",
       "      <td>A122800</td>\n",
       "    </tr>\n",
       "    <tr>\n",
       "      <th>2020-02-05</th>\n",
       "      <td>342</td>\n",
       "      <td>342</td>\n",
       "      <td>213</td>\n",
       "      <td>229</td>\n",
       "      <td>17756257</td>\n",
       "      <td>A122800</td>\n",
       "    </tr>\n",
       "    <tr>\n",
       "      <th>2020-02-06</th>\n",
       "      <td>180</td>\n",
       "      <td>189</td>\n",
       "      <td>132</td>\n",
       "      <td>132</td>\n",
       "      <td>24389271</td>\n",
       "      <td>A122800</td>\n",
       "    </tr>\n",
       "    <tr>\n",
       "      <th>2020-02-07</th>\n",
       "      <td>162</td>\n",
       "      <td>162</td>\n",
       "      <td>93</td>\n",
       "      <td>110</td>\n",
       "      <td>25209126</td>\n",
       "      <td>A122800</td>\n",
       "    </tr>\n",
       "    <tr>\n",
       "      <th>2020-02-10</th>\n",
       "      <td>83</td>\n",
       "      <td>83</td>\n",
       "      <td>62</td>\n",
       "      <td>64</td>\n",
       "      <td>16914931</td>\n",
       "      <td>A122800</td>\n",
       "    </tr>\n",
       "  </tbody>\n",
       "</table>\n",
       "<p>4635336 rows × 6 columns</p>\n",
       "</div>"
      ],
      "text/plain": [
       "             open   high    low  close    volume short_code\n",
       "date                                                       \n",
       "2009-12-18  15200  15580  15159  15460    406524    A005930\n",
       "2009-12-21  15460  15540  15339  15420    291763    A005930\n",
       "2009-12-22  15500  15620  15460  15620    245910    A005930\n",
       "2009-12-23  15760  15760  15560  15680    250159    A005930\n",
       "2009-12-24  15700  15880  15640  15800    407107    A005930\n",
       "...           ...    ...    ...    ...       ...        ...\n",
       "2020-02-04    401    515    270    316  29193142    A122800\n",
       "2020-02-05    342    342    213    229  17756257    A122800\n",
       "2020-02-06    180    189    132    132  24389271    A122800\n",
       "2020-02-07    162    162     93    110  25209126    A122800\n",
       "2020-02-10     83     83     62     64  16914931    A122800\n",
       "\n",
       "[4635336 rows x 6 columns]"
      ]
     },
     "execution_count": 84,
     "metadata": {},
     "output_type": "execute_result"
    }
   ],
   "source": [
    "saved"
   ]
  },
  {
   "cell_type": "code",
   "execution_count": 15,
   "metadata": {},
   "outputs": [
    {
     "data": {
      "text/plain": [
       "Timestamp('2020-02-10 00:00:00')"
      ]
     },
     "execution_count": 15,
     "metadata": {},
     "output_type": "execute_result"
    }
   ],
   "source": [
    "saved.iloc[-1].name"
   ]
  },
  {
   "cell_type": "code",
   "execution_count": 16,
   "metadata": {},
   "outputs": [],
   "source": [
    "from datetime import datetime"
   ]
  },
  {
   "cell_type": "code",
   "execution_count": 17,
   "metadata": {},
   "outputs": [],
   "source": [
    "today = datetime.today()"
   ]
  },
  {
   "cell_type": "code",
   "execution_count": 18,
   "metadata": {},
   "outputs": [
    {
     "data": {
      "text/plain": [
       "True"
      ]
     },
     "execution_count": 18,
     "metadata": {},
     "output_type": "execute_result"
    }
   ],
   "source": [
    "saved.iloc[-1].name < today"
   ]
  },
  {
   "cell_type": "code",
   "execution_count": 134,
   "metadata": {},
   "outputs": [],
   "source": [
    "def get_current_price():\n",
    "    url = 'https://finance.naver.com/sise/field_submit.nhn?menu=market_sum&returnUrl=http%3A%2F%2Ffinance.naver.com%2Fsise%2Fsise_market_sum.nhn%3F%26page%3D1&fieldIds=quant&fieldIds=open_val&fieldIds=high_val&fieldIds=low_val'\n",
    "    payload = dict()\n",
    "    company_pages = []\n",
    "    for sosok in [0,1]: # 0은 코스피, 1은 코스닥\n",
    "        payload['sosok'] = sosok\n",
    "        for page_num in range(1, 33): # 마지막 페이지는 거의 33\n",
    "            print('페이지 수 : {}'.format(page_num))\n",
    "            payload['page'] = page_num\n",
    "            req = requests.get(url, params=payload).text\n",
    "            company_pages.append(pd.read_html(req)[1][['시가', '고가', '저가', '현재가', '거래량', '종목명']])\n",
    "            if page_num==1: break\n",
    "        if sosok==0: break\n",
    "\n",
    "    df = pd.concat(company_pages)\n",
    "    companies = df\n",
    "    companies.dropna(inplace=True)\n",
    "    companies.reset_index(drop=True, inplace=True)\n",
    "    companies.index = [datetime.today()]*len(companies)\n",
    "    companies.columns = ['open', 'high', 'low', 'close', 'volume', 'codeName']\n",
    "    \n",
    "    return companies"
   ]
  },
  {
   "cell_type": "code",
   "execution_count": 135,
   "metadata": {
    "scrolled": true
   },
   "outputs": [
    {
     "name": "stdout",
     "output_type": "stream",
     "text": [
      "페이지 수 : 1\n"
     ]
    }
   ],
   "source": [
    "test = get_current_price()"
   ]
  },
  {
   "cell_type": "code",
   "execution_count": 136,
   "metadata": {},
   "outputs": [],
   "source": [
    "full_code = mg.full_code\n",
    "merged = test.merge(full_code, on=['codeName'])\n",
    "result = merged[['open', 'high', 'low', 'close', 'volume', 'short_code']].copy()\n",
    "result.index= [pd.to_datetime(datetime.today().strftime('%Y%m%d'))] * len(result)\n",
    "concated = pd.concat([saved, result])"
   ]
  },
  {
   "cell_type": "code",
   "execution_count": 140,
   "metadata": {},
   "outputs": [
    {
     "data": {
      "text/html": [
       "<div>\n",
       "<style scoped>\n",
       "    .dataframe tbody tr th:only-of-type {\n",
       "        vertical-align: middle;\n",
       "    }\n",
       "\n",
       "    .dataframe tbody tr th {\n",
       "        vertical-align: top;\n",
       "    }\n",
       "\n",
       "    .dataframe thead th {\n",
       "        text-align: right;\n",
       "    }\n",
       "</style>\n",
       "<table border=\"1\" class=\"dataframe\">\n",
       "  <thead>\n",
       "    <tr style=\"text-align: right;\">\n",
       "      <th></th>\n",
       "      <th>open</th>\n",
       "      <th>high</th>\n",
       "      <th>low</th>\n",
       "      <th>close</th>\n",
       "      <th>volume</th>\n",
       "      <th>codeName</th>\n",
       "    </tr>\n",
       "  </thead>\n",
       "  <tbody>\n",
       "    <tr>\n",
       "      <th>2020-02-13 12:58:15.130551</th>\n",
       "      <td>61200.0</td>\n",
       "      <td>61600.0</td>\n",
       "      <td>61000.0</td>\n",
       "      <td>61200.0</td>\n",
       "      <td>9790422.0</td>\n",
       "      <td>삼성전자</td>\n",
       "    </tr>\n",
       "    <tr>\n",
       "      <th>2020-02-13 12:58:15.130551</th>\n",
       "      <td>101000.0</td>\n",
       "      <td>103500.0</td>\n",
       "      <td>100500.0</td>\n",
       "      <td>102000.0</td>\n",
       "      <td>1848436.0</td>\n",
       "      <td>SK하이닉스</td>\n",
       "    </tr>\n",
       "    <tr>\n",
       "      <th>2020-02-13 12:58:15.130551</th>\n",
       "      <td>51400.0</td>\n",
       "      <td>51900.0</td>\n",
       "      <td>51400.0</td>\n",
       "      <td>51500.0</td>\n",
       "      <td>911972.0</td>\n",
       "      <td>삼성전자우</td>\n",
       "    </tr>\n",
       "  </tbody>\n",
       "</table>\n",
       "</div>"
      ],
      "text/plain": [
       "                                open      high       low     close     volume  \\\n",
       "2020-02-13 12:58:15.130551   61200.0   61600.0   61000.0   61200.0  9790422.0   \n",
       "2020-02-13 12:58:15.130551  101000.0  103500.0  100500.0  102000.0  1848436.0   \n",
       "2020-02-13 12:58:15.130551   51400.0   51900.0   51400.0   51500.0   911972.0   \n",
       "\n",
       "                           codeName  \n",
       "2020-02-13 12:58:15.130551     삼성전자  \n",
       "2020-02-13 12:58:15.130551   SK하이닉스  \n",
       "2020-02-13 12:58:15.130551    삼성전자우  "
      ]
     },
     "execution_count": 140,
     "metadata": {},
     "output_type": "execute_result"
    }
   ],
   "source": [
    "test.head(3)"
   ]
  },
  {
   "cell_type": "code",
   "execution_count": 141,
   "metadata": {},
   "outputs": [],
   "source": [
    "merged = test.merge(full_code, on=['codeName'])"
   ]
  },
  {
   "cell_type": "code",
   "execution_count": 144,
   "metadata": {},
   "outputs": [
    {
     "data": {
      "text/html": [
       "<div>\n",
       "<style scoped>\n",
       "    .dataframe tbody tr th:only-of-type {\n",
       "        vertical-align: middle;\n",
       "    }\n",
       "\n",
       "    .dataframe tbody tr th {\n",
       "        vertical-align: top;\n",
       "    }\n",
       "\n",
       "    .dataframe thead th {\n",
       "        text-align: right;\n",
       "    }\n",
       "</style>\n",
       "<table border=\"1\" class=\"dataframe\">\n",
       "  <thead>\n",
       "    <tr style=\"text-align: right;\">\n",
       "      <th></th>\n",
       "      <th>open</th>\n",
       "      <th>high</th>\n",
       "      <th>low</th>\n",
       "      <th>close</th>\n",
       "      <th>volume</th>\n",
       "      <th>short_code</th>\n",
       "    </tr>\n",
       "  </thead>\n",
       "  <tbody>\n",
       "    <tr>\n",
       "      <th>0</th>\n",
       "      <td>61200.0</td>\n",
       "      <td>61600.0</td>\n",
       "      <td>61000.0</td>\n",
       "      <td>61200.0</td>\n",
       "      <td>9790422.0</td>\n",
       "      <td>A005930</td>\n",
       "    </tr>\n",
       "    <tr>\n",
       "      <th>1</th>\n",
       "      <td>101000.0</td>\n",
       "      <td>103500.0</td>\n",
       "      <td>100500.0</td>\n",
       "      <td>102000.0</td>\n",
       "      <td>1848436.0</td>\n",
       "      <td>A000660</td>\n",
       "    </tr>\n",
       "    <tr>\n",
       "      <th>2</th>\n",
       "      <td>51400.0</td>\n",
       "      <td>51900.0</td>\n",
       "      <td>51400.0</td>\n",
       "      <td>51500.0</td>\n",
       "      <td>911972.0</td>\n",
       "      <td>A005935</td>\n",
       "    </tr>\n",
       "  </tbody>\n",
       "</table>\n",
       "</div>"
      ],
      "text/plain": [
       "       open      high       low     close     volume short_code\n",
       "0   61200.0   61600.0   61000.0   61200.0  9790422.0    A005930\n",
       "1  101000.0  103500.0  100500.0  102000.0  1848436.0    A000660\n",
       "2   51400.0   51900.0   51400.0   51500.0   911972.0    A005935"
      ]
     },
     "execution_count": 144,
     "metadata": {},
     "output_type": "execute_result"
    }
   ],
   "source": [
    "merged[['open', 'high', 'low', 'close', 'volume', 'short_code']].head(3)"
   ]
  },
  {
   "cell_type": "code",
   "execution_count": 152,
   "metadata": {},
   "outputs": [
    {
     "data": {
      "text/html": [
       "<div>\n",
       "<style scoped>\n",
       "    .dataframe tbody tr th:only-of-type {\n",
       "        vertical-align: middle;\n",
       "    }\n",
       "\n",
       "    .dataframe tbody tr th {\n",
       "        vertical-align: top;\n",
       "    }\n",
       "\n",
       "    .dataframe thead th {\n",
       "        text-align: right;\n",
       "    }\n",
       "</style>\n",
       "<table border=\"1\" class=\"dataframe\">\n",
       "  <thead>\n",
       "    <tr style=\"text-align: right;\">\n",
       "      <th></th>\n",
       "      <th>open</th>\n",
       "      <th>high</th>\n",
       "      <th>low</th>\n",
       "      <th>close</th>\n",
       "      <th>volume</th>\n",
       "      <th>short_code</th>\n",
       "    </tr>\n",
       "  </thead>\n",
       "  <tbody>\n",
       "    <tr>\n",
       "      <th>2020-02-13</th>\n",
       "      <td>61200.0</td>\n",
       "      <td>61600.0</td>\n",
       "      <td>61000.0</td>\n",
       "      <td>61200.0</td>\n",
       "      <td>9790422.0</td>\n",
       "      <td>A005930</td>\n",
       "    </tr>\n",
       "    <tr>\n",
       "      <th>2020-02-13</th>\n",
       "      <td>101000.0</td>\n",
       "      <td>103500.0</td>\n",
       "      <td>100500.0</td>\n",
       "      <td>102000.0</td>\n",
       "      <td>1848436.0</td>\n",
       "      <td>A000660</td>\n",
       "    </tr>\n",
       "    <tr>\n",
       "      <th>2020-02-13</th>\n",
       "      <td>51400.0</td>\n",
       "      <td>51900.0</td>\n",
       "      <td>51400.0</td>\n",
       "      <td>51500.0</td>\n",
       "      <td>911972.0</td>\n",
       "      <td>A005935</td>\n",
       "    </tr>\n",
       "  </tbody>\n",
       "</table>\n",
       "</div>"
      ],
      "text/plain": [
       "                open      high       low     close     volume short_code\n",
       "2020-02-13   61200.0   61600.0   61000.0   61200.0  9790422.0    A005930\n",
       "2020-02-13  101000.0  103500.0  100500.0  102000.0  1848436.0    A000660\n",
       "2020-02-13   51400.0   51900.0   51400.0   51500.0   911972.0    A005935"
      ]
     },
     "execution_count": 152,
     "metadata": {},
     "output_type": "execute_result"
    }
   ],
   "source": [
    "result = merged[['open', 'high', 'low', 'close', 'volume', 'short_code']].copy()\n",
    "result.index= [pd.to_datetime(datetime.today().strftime('%Y%m%d'))] * len(result)\n",
    "result.head(3)"
   ]
  },
  {
   "cell_type": "code",
   "execution_count": 153,
   "metadata": {},
   "outputs": [
    {
     "data": {
      "text/html": [
       "<div>\n",
       "<style scoped>\n",
       "    .dataframe tbody tr th:only-of-type {\n",
       "        vertical-align: middle;\n",
       "    }\n",
       "\n",
       "    .dataframe tbody tr th {\n",
       "        vertical-align: top;\n",
       "    }\n",
       "\n",
       "    .dataframe thead th {\n",
       "        text-align: right;\n",
       "    }\n",
       "</style>\n",
       "<table border=\"1\" class=\"dataframe\">\n",
       "  <thead>\n",
       "    <tr style=\"text-align: right;\">\n",
       "      <th></th>\n",
       "      <th>open</th>\n",
       "      <th>high</th>\n",
       "      <th>low</th>\n",
       "      <th>close</th>\n",
       "      <th>volume</th>\n",
       "      <th>short_code</th>\n",
       "    </tr>\n",
       "    <tr>\n",
       "      <th>date</th>\n",
       "      <th></th>\n",
       "      <th></th>\n",
       "      <th></th>\n",
       "      <th></th>\n",
       "      <th></th>\n",
       "      <th></th>\n",
       "    </tr>\n",
       "  </thead>\n",
       "  <tbody>\n",
       "    <tr>\n",
       "      <th>2009-12-18</th>\n",
       "      <td>15200</td>\n",
       "      <td>15580</td>\n",
       "      <td>15159</td>\n",
       "      <td>15460</td>\n",
       "      <td>406524</td>\n",
       "      <td>A005930</td>\n",
       "    </tr>\n",
       "    <tr>\n",
       "      <th>2009-12-21</th>\n",
       "      <td>15460</td>\n",
       "      <td>15540</td>\n",
       "      <td>15339</td>\n",
       "      <td>15420</td>\n",
       "      <td>291763</td>\n",
       "      <td>A005930</td>\n",
       "    </tr>\n",
       "    <tr>\n",
       "      <th>2009-12-22</th>\n",
       "      <td>15500</td>\n",
       "      <td>15620</td>\n",
       "      <td>15460</td>\n",
       "      <td>15620</td>\n",
       "      <td>245910</td>\n",
       "      <td>A005930</td>\n",
       "    </tr>\n",
       "  </tbody>\n",
       "</table>\n",
       "</div>"
      ],
      "text/plain": [
       "             open   high    low  close  volume short_code\n",
       "date                                                     \n",
       "2009-12-18  15200  15580  15159  15460  406524    A005930\n",
       "2009-12-21  15460  15540  15339  15420  291763    A005930\n",
       "2009-12-22  15500  15620  15460  15620  245910    A005930"
      ]
     },
     "execution_count": 153,
     "metadata": {},
     "output_type": "execute_result"
    }
   ],
   "source": [
    "saved.head(3)"
   ]
  },
  {
   "cell_type": "code",
   "execution_count": 156,
   "metadata": {},
   "outputs": [],
   "source": [
    "concated = pd.concat([saved, result])"
   ]
  },
  {
   "cell_type": "code",
   "execution_count": 162,
   "metadata": {},
   "outputs": [
    {
     "data": {
      "text/plain": [
       "Timestamp('2020-02-10 00:00:00')"
      ]
     },
     "execution_count": 162,
     "metadata": {},
     "output_type": "execute_result"
    }
   ],
   "source": [
    "saved.index.unique().sort_values()[-1]"
   ]
  },
  {
   "cell_type": "code",
   "execution_count": null,
   "metadata": {},
   "outputs": [],
   "source": []
  },
  {
   "cell_type": "code",
   "execution_count": null,
   "metadata": {},
   "outputs": [],
   "source": []
  },
  {
   "cell_type": "code",
   "execution_count": null,
   "metadata": {},
   "outputs": [],
   "source": []
  },
  {
   "cell_type": "code",
   "execution_count": null,
   "metadata": {},
   "outputs": [],
   "source": []
  },
  {
   "cell_type": "code",
   "execution_count": null,
   "metadata": {},
   "outputs": [],
   "source": []
  }
 ],
 "metadata": {
  "kernelspec": {
   "display_name": "Python 3",
   "language": "python",
   "name": "python3"
  },
  "language_info": {
   "codemirror_mode": {
    "name": "ipython",
    "version": 3
   },
   "file_extension": ".py",
   "mimetype": "text/x-python",
   "name": "python",
   "nbconvert_exporter": "python",
   "pygments_lexer": "ipython3",
   "version": "3.6.10"
  }
 },
 "nbformat": 4,
 "nbformat_minor": 2
}
